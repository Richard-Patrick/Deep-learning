{
 "cells": [
  {
   "cell_type": "code",
   "execution_count": 3,
   "id": "1e2dae16",
   "metadata": {},
   "outputs": [],
   "source": [
    "import os\n",
    "import numpy as np\n",
    "import cv2\n",
    "import pandas as pd\n",
    "from sklearn.model_selection import train_test_split"
   ]
  },
  {
   "cell_type": "code",
   "execution_count": null,
   "id": "bce9a9d1",
   "metadata": {},
   "outputs": [],
   "source": [
    "'''\n",
    "base_dir = \"CUB_200_2011/images/\"\n",
    "data = []\n",
    "labels = []\n",
    "\n",
    "for folder_name in os.listdir(base_dir):\n",
    "    folder_path = os.path.join(base_dir, folder_name)\n",
    "\n",
    "    if os.path.isdir(folder_path):\n",
    "        # loop through each image in the folder\n",
    "        for img_name in os.listdir(folder_path):\n",
    "            img_path = os.path.join(folder_path, img_name)\n",
    "\n",
    "            # read the image using OpenCV\n",
    "            img = cv2.imread(img_path, cv2.IMREAD_GRAYSCALE)  # assuming grayscale, change if you want color\n",
    "            if img is not None:\n",
    "                # resize to a standard size if needed (optional)\n",
    "                img = cv2.resize(img, (64, 64))  # replace with desired size\n",
    "\n",
    "                # append the image data and label to our lists\n",
    "                data.append(img)\n",
    "                labels.append(folder_name)\n",
    "\n",
    "data_np = np.array(data, dtype=np.float32) / 255.0 \n",
    "labels_np = np.array(labels)\n",
    "\n",
    "np.save(\"data.npy\", data_np)\n",
    "np.save(\"labels.npy\", labels_np)\n",
    "\n",
    "'''"
   ]
  },
  {
   "cell_type": "code",
   "execution_count": 2,
   "id": "b44bfda3",
   "metadata": {},
   "outputs": [],
   "source": [
    "data = np.load('Data/data.npy')\n",
    "labels = np.load('Data/labels.npy')"
   ]
  },
  {
   "cell_type": "code",
   "execution_count": 4,
   "id": "afa35f49",
   "metadata": {},
   "outputs": [],
   "source": [
    "X_train, X_test, y_train, y_test = train_test_split(data, labels, test_size=0.33, random_state=42)"
   ]
  },
  {
   "cell_type": "code",
   "execution_count": 13,
   "id": "9947fce3",
   "metadata": {},
   "outputs": [],
   "source": []
  },
  {
   "cell_type": "code",
   "execution_count": 17,
   "id": "72a0a7be",
   "metadata": {},
   "outputs": [],
   "source": []
  },
  {
   "cell_type": "code",
   "execution_count": null,
   "id": "f61463b6",
   "metadata": {},
   "outputs": [],
   "source": []
  },
  {
   "cell_type": "code",
   "execution_count": null,
   "id": "1b3836cc",
   "metadata": {},
   "outputs": [],
   "source": []
  }
 ],
 "metadata": {
  "kernelspec": {
   "display_name": "Python 3 (ipykernel)",
   "language": "python",
   "name": "python3"
  },
  "language_info": {
   "codemirror_mode": {
    "name": "ipython",
    "version": 3
   },
   "file_extension": ".py",
   "mimetype": "text/x-python",
   "name": "python",
   "nbconvert_exporter": "python",
   "pygments_lexer": "ipython3",
   "version": "3.10.12"
  }
 },
 "nbformat": 4,
 "nbformat_minor": 5
}
