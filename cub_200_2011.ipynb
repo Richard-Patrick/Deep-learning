{
 "cells": [
  {
   "cell_type": "code",
   "execution_count": 1,
   "id": "1e2dae16",
   "metadata": {},
   "outputs": [],
   "source": [
    "import os\n",
    "import numpy as np\n",
    "import cv2"
   ]
  },
  {
   "cell_type": "code",
   "execution_count": 6,
   "id": "b44bfda3",
   "metadata": {},
   "outputs": [],
   "source": [
    "base_dir = \"CUB_200_2011/images/\"\n",
    "data = []\n",
    "labels = []"
   ]
  },
  {
   "cell_type": "code",
   "execution_count": 7,
   "id": "afa35f49",
   "metadata": {},
   "outputs": [],
   "source": [
    "for folder_name in os.listdir(base_dir):\n",
    "    folder_path = os.path.join(base_dir, folder_name)\n",
    "\n",
    "    if os.path.isdir(folder_path):\n",
    "        # loop through each image in the folder\n",
    "        for img_name in os.listdir(folder_path):\n",
    "            img_path = os.path.join(folder_path, img_name)\n",
    "\n",
    "            # read the image using OpenCV\n",
    "            img = cv2.imread(img_path, cv2.IMREAD_GRAYSCALE)  # assuming grayscale, change if you want color\n",
    "            if img is not None:\n",
    "                # resize to a standard size if needed (optional)\n",
    "                img = cv2.resize(img, (64, 64))  # replace with desired size\n",
    "\n",
    "                # append the image data and label to our lists\n",
    "                data.append(img)\n",
    "                labels.append(folder_name)"
   ]
  },
  {
   "cell_type": "code",
   "execution_count": null,
   "id": "74703115",
   "metadata": {},
   "outputs": [
    {
     "data": {
      "text/plain": [
       "[]"
      ]
     },
     "execution_count": 5,
     "metadata": {},
     "output_type": "execute_result"
    }
   ],
   "source": [
    "data"
   ]
  },
  {
   "cell_type": "code",
   "execution_count": null,
   "id": "9947fce3",
   "metadata": {},
   "outputs": [],
   "source": [
    "data_np = np.array(data, dtype=np.float32) / 255.0  # normalize to [0, 1]\n",
    "labels_np = np.array(labels)"
   ]
  },
  {
   "cell_type": "code",
   "execution_count": null,
   "id": "72a0a7be",
   "metadata": {},
   "outputs": [],
   "source": [
    "np.save(\"data.npy\", data_np)\n",
    "np.save(\"labels.npy\", labels_np)"
   ]
  },
  {
   "cell_type": "code",
   "execution_count": null,
   "id": "f61463b6",
   "metadata": {},
   "outputs": [],
   "source": []
  },
  {
   "cell_type": "code",
   "execution_count": null,
   "id": "1b3836cc",
   "metadata": {},
   "outputs": [],
   "source": []
  }
 ],
 "metadata": {
  "kernelspec": {
   "display_name": "Python 3 (ipykernel)",
   "language": "python",
   "name": "python3"
  },
  "language_info": {
   "codemirror_mode": {
    "name": "ipython",
    "version": 3
   },
   "file_extension": ".py",
   "mimetype": "text/x-python",
   "name": "python",
   "nbconvert_exporter": "python",
   "pygments_lexer": "ipython3",
   "version": "3.10.12"
  }
 },
 "nbformat": 4,
 "nbformat_minor": 5
}
