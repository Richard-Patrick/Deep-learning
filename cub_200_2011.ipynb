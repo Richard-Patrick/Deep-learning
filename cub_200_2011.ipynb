{
 "cells": [
  {
   "cell_type": "code",
   "execution_count": null,
   "id": "5035435c",
   "metadata": {},
   "outputs": [],
   "source": [
    "import numpy as np\n",
    "from PIL import Image"
   ]
  },
  {
   "cell_type": "code",
   "execution_count": null,
   "id": "e6827f97",
   "metadata": {},
   "outputs": [],
   "source": [
    "img = Image.open('image.jpg') \n",
    "img_array = np.array(img)"
   ]
  },
  {
   "cell_type": "code",
   "execution_count": null,
   "id": "5147b8db",
   "metadata": {},
   "outputs": [],
   "source": [
    "np.save('image.npy', img_array)"
   ]
  },
  {
   "cell_type": "code",
   "execution_count": 13,
   "id": "1e2dae16",
   "metadata": {},
   "outputs": [],
   "source": [
    "import os\n",
    "import numpy as np\n",
    "import cv2\n",
    "\n",
    "base_dir = \"CUB_200_2011/images/001.Black_footed_Albatross\"\n",
    "data = []\n",
    "labels = []\n"
   ]
  },
  {
   "cell_type": "code",
   "execution_count": 12,
   "id": "40cced0f",
   "metadata": {},
   "outputs": [
    {
     "ename": "NameError",
     "evalue": "name 'folder_name' is not defined",
     "output_type": "error",
     "traceback": [
      "\u001b[1;31m---------------------------------------------------------------------------\u001b[0m",
      "\u001b[1;31mNameError\u001b[0m                                 Traceback (most recent call last)",
      "\u001b[1;32me:\\Work\\Github\\cub\\image_to_npy.ipynb Cell 5\u001b[0m line \u001b[0;36m2\n\u001b[0;32m     <a href='vscode-notebook-cell:/e%3A/Work/Github/cub/image_to_npy.ipynb#W4sZmlsZQ%3D%3D?line=22'>23</a>\u001b[0m                 \u001b[39m# append the image data and label to our lists\u001b[39;00m\n\u001b[0;32m     <a href='vscode-notebook-cell:/e%3A/Work/Github/cub/image_to_npy.ipynb#W4sZmlsZQ%3D%3D?line=23'>24</a>\u001b[0m             data\u001b[39m.\u001b[39mappend(img)\n\u001b[1;32m---> <a href='vscode-notebook-cell:/e%3A/Work/Github/cub/image_to_npy.ipynb#W4sZmlsZQ%3D%3D?line=24'>25</a>\u001b[0m             labels\u001b[39m.\u001b[39mappend(folder_name)\n\u001b[0;32m     <a href='vscode-notebook-cell:/e%3A/Work/Github/cub/image_to_npy.ipynb#W4sZmlsZQ%3D%3D?line=26'>27</a>\u001b[0m \u001b[39m# convert lists to numpy arrays\u001b[39;00m\n\u001b[0;32m     <a href='vscode-notebook-cell:/e%3A/Work/Github/cub/image_to_npy.ipynb#W4sZmlsZQ%3D%3D?line=27'>28</a>\u001b[0m data_np \u001b[39m=\u001b[39m np\u001b[39m.\u001b[39marray(data, dtype\u001b[39m=\u001b[39mnp\u001b[39m.\u001b[39mfloat32) \u001b[39m/\u001b[39m \u001b[39m255.0\u001b[39m  \u001b[39m# normalize to [0, 1]\u001b[39;00m\n",
      "\u001b[1;31mNameError\u001b[0m: name 'folder_name' is not defined"
     ]
    }
   ],
   "source": [
    "\n",
    "# loop through each folder in the base directory\n",
    "folder_path = os.path.join(base_dir)\n",
    "\n",
    "if os.path.isdir(folder_path):\n",
    "    # loop through each image in the folder\n",
    "    for img_name in os.listdir(folder_path):\n",
    "        img_path = os.path.join(folder_path, img_name)\n",
    "\n",
    "            # read the image using OpenCV\n",
    "        img = cv2.imread(img_path, cv2.IMREAD_GRAYSCALE)  # assuming grayscale, change if you want color\n",
    "        if img is not None:\n",
    "                # resize to a standard size if needed (optional)\n",
    "            img = cv2.resize(img, (64, 64))  # replace with desired size\n",
    "\n",
    "                # append the image data and label to our lists\n",
    "            data.append(img)\n",
    "            labels.append(folder_name)\n",
    "\n"
   ]
  },
  {
   "cell_type": "code",
   "execution_count": 14,
   "id": "4dea46a7",
   "metadata": {},
   "outputs": [
    {
     "data": {
      "text/plain": [
       "'CUB_200_2011/images/001.Black_footed_Albatross'"
      ]
     },
     "execution_count": 14,
     "metadata": {},
     "output_type": "execute_result"
    }
   ],
   "source": [
    "folder_path"
   ]
  },
  {
   "cell_type": "code",
   "execution_count": 16,
   "id": "b176bf21",
   "metadata": {},
   "outputs": [],
   "source": [
    "for img_name in os.listdir(folder_path):\n",
    "    img_path = os.path.join(folder_path, img_name)\n",
    "\n",
    "        # read the image using OpenCV\n",
    "    img = cv2.imread(img_path, cv2.IMREAD_GRAYSCALE)  # assuming grayscale, change if you want color\n",
    "    if img is not None:\n",
    "            # resize to a standard size if needed (optional)\n",
    "        img = cv2.resize(img, (64, 64))  # replace with desired size\n",
    "\n",
    "            # append the image data and label to our lists\n",
    "        data.append(img)\n"
   ]
  },
  {
   "cell_type": "code",
   "execution_count": null,
   "id": "6e925bb2",
   "metadata": {},
   "outputs": [],
   "source": [
    "# convert lists to numpy arrays\n",
    "data_np = np.array(data, dtype=np.float32) / 255.0  # normalize to [0, 1]\n",
    "labels_np = np.array(labels)\n",
    "\n",
    "# save to npy files\n",
    "np.save(\"data.npy\", data_np)\n",
    "np.save(\"labels.npy\", labels_np)\n"
   ]
  },
  {
   "cell_type": "code",
   "execution_count": null,
   "id": "72a0a7be",
   "metadata": {},
   "outputs": [],
   "source": []
  },
  {
   "cell_type": "code",
   "execution_count": null,
   "id": "f61463b6",
   "metadata": {},
   "outputs": [],
   "source": []
  },
  {
   "cell_type": "code",
   "execution_count": null,
   "id": "1b3836cc",
   "metadata": {},
   "outputs": [],
   "source": []
  }
 ],
 "metadata": {
  "kernelspec": {
   "display_name": "Python 3 (ipykernel)",
   "language": "python",
   "name": "python3"
  },
  "language_info": {
   "codemirror_mode": {
    "name": "ipython",
    "version": 3
   },
   "file_extension": ".py",
   "mimetype": "text/x-python",
   "name": "python",
   "nbconvert_exporter": "python",
   "pygments_lexer": "ipython3",
   "version": "3.10.12"
  }
 },
 "nbformat": 4,
 "nbformat_minor": 5
}
