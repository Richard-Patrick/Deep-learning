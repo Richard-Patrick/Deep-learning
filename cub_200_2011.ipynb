{
 "cells": [
  {
   "cell_type": "code",
   "execution_count": 2,
   "id": "1e2dae16",
   "metadata": {},
   "outputs": [],
   "source": [
    "import os\n",
    "import numpy as np\n",
    "import cv2\n",
    "import pandas as pd\n",
    "from sklearn.model_selection import train_test_split"
   ]
  },
  {
   "cell_type": "code",
   "execution_count": null,
   "id": "bce9a9d1",
   "metadata": {},
   "outputs": [],
   "source": [
    "'''\n",
    "base_dir = \"CUB_200_2011/images/\"\n",
    "data = []\n",
    "labels = []\n",
    "\n",
    "for folder_name in os.listdir(base_dir):\n",
    "    folder_path = os.path.join(base_dir, folder_name)\n",
    "\n",
    "    if os.path.isdir(folder_path):\n",
    "        # loop through each image in the folder\n",
    "        for img_name in os.listdir(folder_path):\n",
    "            img_path = os.path.join(folder_path, img_name)\n",
    "\n",
    "            # read the image using OpenCV\n",
    "            img = cv2.imread(img_path, cv2.IMREAD_GRAYSCALE)  # assuming grayscale, change if you want color\n",
    "            if img is not None:\n",
    "                # resize to a standard size if needed (optional)\n",
    "                img = cv2.resize(img, (64, 64))  # replace with desired size\n",
    "\n",
    "                # append the image data and label to our lists\n",
    "                data.append(img)\n",
    "                labels.append(folder_name)\n",
    "\n",
    "data_np = np.array(data, dtype=np.float32) / 255.0 \n",
    "labels_np = np.array(labels)\n",
    "\n",
    "np.save(\"data.npy\", data_np)\n",
    "np.save(\"labels.npy\", labels_np)\n",
    "\n",
    "'''"
   ]
  },
  {
   "cell_type": "code",
   "execution_count": 3,
   "id": "b44bfda3",
   "metadata": {},
   "outputs": [],
   "source": [
    "data = np.load('Data/data.npy')\n",
    "labels = np.load('Data/labels.npy')"
   ]
  },
  {
   "cell_type": "code",
   "execution_count": 4,
   "id": "afa35f49",
   "metadata": {},
   "outputs": [],
   "source": [
    "X_train, X_test, y_train, y_test = train_test_split(data, labels, test_size=0.33, random_state=42)"
   ]
  },
  {
   "cell_type": "code",
   "execution_count": 5,
   "id": "9947fce3",
   "metadata": {},
   "outputs": [
    {
     "data": {
      "text/plain": [
       "(7897,)"
      ]
     },
     "execution_count": 5,
     "metadata": {},
     "output_type": "execute_result"
    }
   ],
   "source": [
    "y_train.shape"
   ]
  },
  {
   "cell_type": "code",
   "execution_count": 9,
   "id": "f61463b6",
   "metadata": {},
   "outputs": [
    {
     "data": {
      "text/plain": [
       "array(['001.Black_footed_Albatross', '002.Laysan_Albatross',\n",
       "       '003.Sooty_Albatross', '004.Groove_billed_Ani',\n",
       "       '005.Crested_Auklet', '006.Least_Auklet', '007.Parakeet_Auklet',\n",
       "       '008.Rhinoceros_Auklet', '009.Brewer_Blackbird',\n",
       "       '010.Red_winged_Blackbird', '011.Rusty_Blackbird',\n",
       "       '012.Yellow_headed_Blackbird', '013.Bobolink',\n",
       "       '014.Indigo_Bunting', '015.Lazuli_Bunting', '016.Painted_Bunting',\n",
       "       '017.Cardinal', '018.Spotted_Catbird', '019.Gray_Catbird',\n",
       "       '020.Yellow_breasted_Chat', '021.Eastern_Towhee',\n",
       "       '022.Chuck_will_Widow', '023.Brandt_Cormorant',\n",
       "       '024.Red_faced_Cormorant', '025.Pelagic_Cormorant',\n",
       "       '026.Bronzed_Cowbird', '027.Shiny_Cowbird', '028.Brown_Creeper',\n",
       "       '029.American_Crow', '030.Fish_Crow', '031.Black_billed_Cuckoo',\n",
       "       '032.Mangrove_Cuckoo', '033.Yellow_billed_Cuckoo',\n",
       "       '034.Gray_crowned_Rosy_Finch', '035.Purple_Finch',\n",
       "       '036.Northern_Flicker', '037.Acadian_Flycatcher',\n",
       "       '038.Great_Crested_Flycatcher', '039.Least_Flycatcher',\n",
       "       '040.Olive_sided_Flycatcher', '041.Scissor_tailed_Flycatcher',\n",
       "       '042.Vermilion_Flycatcher', '043.Yellow_bellied_Flycatcher',\n",
       "       '044.Frigatebird', '045.Northern_Fulmar', '046.Gadwall',\n",
       "       '047.American_Goldfinch', '048.European_Goldfinch',\n",
       "       '049.Boat_tailed_Grackle', '050.Eared_Grebe', '051.Horned_Grebe',\n",
       "       '052.Pied_billed_Grebe', '053.Western_Grebe', '054.Blue_Grosbeak',\n",
       "       '055.Evening_Grosbeak', '056.Pine_Grosbeak',\n",
       "       '057.Rose_breasted_Grosbeak', '058.Pigeon_Guillemot',\n",
       "       '059.California_Gull', '060.Glaucous_winged_Gull',\n",
       "       '061.Heermann_Gull', '062.Herring_Gull', '063.Ivory_Gull',\n",
       "       '064.Ring_billed_Gull', '065.Slaty_backed_Gull',\n",
       "       '066.Western_Gull', '067.Anna_Hummingbird',\n",
       "       '068.Ruby_throated_Hummingbird', '069.Rufous_Hummingbird',\n",
       "       '070.Green_Violetear', '071.Long_tailed_Jaeger',\n",
       "       '072.Pomarine_Jaeger', '073.Blue_Jay', '074.Florida_Jay',\n",
       "       '075.Green_Jay', '076.Dark_eyed_Junco', '077.Tropical_Kingbird',\n",
       "       '078.Gray_Kingbird', '079.Belted_Kingfisher',\n",
       "       '080.Green_Kingfisher', '081.Pied_Kingfisher',\n",
       "       '082.Ringed_Kingfisher', '083.White_breasted_Kingfisher',\n",
       "       '084.Red_legged_Kittiwake', '085.Horned_Lark', '086.Pacific_Loon',\n",
       "       '087.Mallard', '088.Western_Meadowlark', '089.Hooded_Merganser',\n",
       "       '090.Red_breasted_Merganser', '091.Mockingbird', '092.Nighthawk',\n",
       "       '093.Clark_Nutcracker', '094.White_breasted_Nuthatch',\n",
       "       '095.Baltimore_Oriole', '096.Hooded_Oriole', '097.Orchard_Oriole',\n",
       "       '098.Scott_Oriole', '099.Ovenbird', '100.Brown_Pelican',\n",
       "       '101.White_Pelican', '102.Western_Wood_Pewee', '103.Sayornis',\n",
       "       '104.American_Pipit', '105.Whip_poor_Will', '106.Horned_Puffin',\n",
       "       '107.Common_Raven', '108.White_necked_Raven',\n",
       "       '109.American_Redstart', '110.Geococcyx', '111.Loggerhead_Shrike',\n",
       "       '112.Great_Grey_Shrike', '113.Baird_Sparrow',\n",
       "       '114.Black_throated_Sparrow', '115.Brewer_Sparrow',\n",
       "       '116.Chipping_Sparrow', '117.Clay_colored_Sparrow',\n",
       "       '118.House_Sparrow', '119.Field_Sparrow', '120.Fox_Sparrow',\n",
       "       '121.Grasshopper_Sparrow', '122.Harris_Sparrow',\n",
       "       '123.Henslow_Sparrow', '124.Le_Conte_Sparrow',\n",
       "       '125.Lincoln_Sparrow', '126.Nelson_Sharp_tailed_Sparrow',\n",
       "       '127.Savannah_Sparrow', '128.Seaside_Sparrow', '129.Song_Sparrow',\n",
       "       '130.Tree_Sparrow', '131.Vesper_Sparrow',\n",
       "       '132.White_crowned_Sparrow', '133.White_throated_Sparrow',\n",
       "       '134.Cape_Glossy_Starling', '135.Bank_Swallow', '136.Barn_Swallow',\n",
       "       '137.Cliff_Swallow', '138.Tree_Swallow', '139.Scarlet_Tanager',\n",
       "       '140.Summer_Tanager', '141.Artic_Tern', '142.Black_Tern',\n",
       "       '143.Caspian_Tern', '144.Common_Tern', '145.Elegant_Tern',\n",
       "       '146.Forsters_Tern', '147.Least_Tern', '148.Green_tailed_Towhee',\n",
       "       '149.Brown_Thrasher', '150.Sage_Thrasher',\n",
       "       '151.Black_capped_Vireo', '152.Blue_headed_Vireo',\n",
       "       '153.Philadelphia_Vireo', '154.Red_eyed_Vireo',\n",
       "       '155.Warbling_Vireo', '156.White_eyed_Vireo',\n",
       "       '157.Yellow_throated_Vireo', '158.Bay_breasted_Warbler',\n",
       "       '159.Black_and_white_Warbler', '160.Black_throated_Blue_Warbler',\n",
       "       '161.Blue_winged_Warbler', '162.Canada_Warbler',\n",
       "       '163.Cape_May_Warbler', '164.Cerulean_Warbler',\n",
       "       '165.Chestnut_sided_Warbler', '166.Golden_winged_Warbler',\n",
       "       '167.Hooded_Warbler', '168.Kentucky_Warbler',\n",
       "       '169.Magnolia_Warbler', '170.Mourning_Warbler',\n",
       "       '171.Myrtle_Warbler', '172.Nashville_Warbler',\n",
       "       '173.Orange_crowned_Warbler', '174.Palm_Warbler',\n",
       "       '175.Pine_Warbler', '176.Prairie_Warbler',\n",
       "       '177.Prothonotary_Warbler', '178.Swainson_Warbler',\n",
       "       '179.Tennessee_Warbler', '180.Wilson_Warbler',\n",
       "       '181.Worm_eating_Warbler', '182.Yellow_Warbler',\n",
       "       '183.Northern_Waterthrush', '184.Louisiana_Waterthrush',\n",
       "       '185.Bohemian_Waxwing', '186.Cedar_Waxwing',\n",
       "       '187.American_Three_toed_Woodpecker', '188.Pileated_Woodpecker',\n",
       "       '189.Red_bellied_Woodpecker', '190.Red_cockaded_Woodpecker',\n",
       "       '191.Red_headed_Woodpecker', '192.Downy_Woodpecker',\n",
       "       '193.Bewick_Wren', '194.Cactus_Wren', '195.Carolina_Wren',\n",
       "       '196.House_Wren', '197.Marsh_Wren', '198.Rock_Wren',\n",
       "       '199.Winter_Wren', '200.Common_Yellowthroat'], dtype='<U34')"
      ]
     },
     "execution_count": 9,
     "metadata": {},
     "output_type": "execute_result"
    }
   ],
   "source": [
    "np.unique(y_train)"
   ]
  },
  {
   "cell_type": "code",
   "execution_count": null,
   "id": "1b3836cc",
   "metadata": {},
   "outputs": [],
   "source": []
  }
 ],
 "metadata": {
  "kernelspec": {
   "display_name": "Python 3 (ipykernel)",
   "language": "python",
   "name": "python3"
  },
  "language_info": {
   "codemirror_mode": {
    "name": "ipython",
    "version": 3
   },
   "file_extension": ".py",
   "mimetype": "text/x-python",
   "name": "python",
   "nbconvert_exporter": "python",
   "pygments_lexer": "ipython3",
   "version": "3.10.12"
  }
 },
 "nbformat": 4,
 "nbformat_minor": 5
}
