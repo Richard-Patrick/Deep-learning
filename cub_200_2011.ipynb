{
 "cells": [
  {
   "cell_type": "code",
   "execution_count": 2,
   "id": "1e2dae16",
   "metadata": {},
   "outputs": [],
   "source": [
    "import os\n",
    "import numpy as np\n",
    "import cv2\n",
    "import pandas as pd\n",
    "from sklearn.model_selection import train_test_split"
   ]
  },
  {
   "cell_type": "code",
   "execution_count": 3,
   "id": "1b3836cc",
   "metadata": {},
   "outputs": [
    {
     "name": "stderr",
     "output_type": "stream",
     "text": [
      "C:\\Users\\Richard Patrick\\AppData\\Local\\Temp\\ipykernel_23712\\3715118202.py:1: ParserWarning: Falling back to the 'python' engine because the 'c' engine does not support regex separators (separators > 1 char and different from '\\s+' are interpreted as regex); you can avoid this warning by specifying engine='python'.\n",
      "  df = pd.read_csv(\"CUB_200_2011/images.txt\", sep=\"/n\")\n"
     ]
    }
   ],
   "source": [
    "df = pd.read_csv(\"CUB_200_2011/images.txt\", sep=\"/n\")  "
   ]
  },
  {
   "cell_type": "code",
   "execution_count": 4,
   "id": "cb157fce",
   "metadata": {},
   "outputs": [
    {
     "data": {
      "text/html": [
       "<div>\n",
       "<style scoped>\n",
       "    .dataframe tbody tr th:only-of-type {\n",
       "        vertical-align: middle;\n",
       "    }\n",
       "\n",
       "    .dataframe tbody tr th {\n",
       "        vertical-align: top;\n",
       "    }\n",
       "\n",
       "    .dataframe thead th {\n",
       "        text-align: right;\n",
       "    }\n",
       "</style>\n",
       "<table border=\"1\" class=\"dataframe\">\n",
       "  <thead>\n",
       "    <tr style=\"text-align: right;\">\n",
       "      <th></th>\n",
       "      <th>1 001.Black_footed_Albatross/Black_Footed_Albatross_0046_18.jpg</th>\n",
       "    </tr>\n",
       "  </thead>\n",
       "  <tbody>\n",
       "    <tr>\n",
       "      <th>0</th>\n",
       "      <td>2 001.Black_footed_Albatross/Black_Footed_Alba...</td>\n",
       "    </tr>\n",
       "    <tr>\n",
       "      <th>1</th>\n",
       "      <td>3 001.Black_footed_Albatross/Black_Footed_Alba...</td>\n",
       "    </tr>\n",
       "    <tr>\n",
       "      <th>2</th>\n",
       "      <td>4 001.Black_footed_Albatross/Black_Footed_Alba...</td>\n",
       "    </tr>\n",
       "    <tr>\n",
       "      <th>3</th>\n",
       "      <td>5 001.Black_footed_Albatross/Black_Footed_Alba...</td>\n",
       "    </tr>\n",
       "    <tr>\n",
       "      <th>4</th>\n",
       "      <td>6 001.Black_footed_Albatross/Black_Footed_Alba...</td>\n",
       "    </tr>\n",
       "    <tr>\n",
       "      <th>...</th>\n",
       "      <td>...</td>\n",
       "    </tr>\n",
       "    <tr>\n",
       "      <th>11782</th>\n",
       "      <td>11784 200.Common_Yellowthroat/Common_Yellowthr...</td>\n",
       "    </tr>\n",
       "    <tr>\n",
       "      <th>11783</th>\n",
       "      <td>11785 200.Common_Yellowthroat/Common_Yellowthr...</td>\n",
       "    </tr>\n",
       "    <tr>\n",
       "      <th>11784</th>\n",
       "      <td>11786 200.Common_Yellowthroat/Common_Yellowthr...</td>\n",
       "    </tr>\n",
       "    <tr>\n",
       "      <th>11785</th>\n",
       "      <td>11787 200.Common_Yellowthroat/Common_Yellowthr...</td>\n",
       "    </tr>\n",
       "    <tr>\n",
       "      <th>11786</th>\n",
       "      <td>11788 200.Common_Yellowthroat/Common_Yellowthr...</td>\n",
       "    </tr>\n",
       "  </tbody>\n",
       "</table>\n",
       "<p>11787 rows × 1 columns</p>\n",
       "</div>"
      ],
      "text/plain": [
       "      1 001.Black_footed_Albatross/Black_Footed_Albatross_0046_18.jpg\n",
       "0      2 001.Black_footed_Albatross/Black_Footed_Alba...             \n",
       "1      3 001.Black_footed_Albatross/Black_Footed_Alba...             \n",
       "2      4 001.Black_footed_Albatross/Black_Footed_Alba...             \n",
       "3      5 001.Black_footed_Albatross/Black_Footed_Alba...             \n",
       "4      6 001.Black_footed_Albatross/Black_Footed_Alba...             \n",
       "...                                                  ...             \n",
       "11782  11784 200.Common_Yellowthroat/Common_Yellowthr...             \n",
       "11783  11785 200.Common_Yellowthroat/Common_Yellowthr...             \n",
       "11784  11786 200.Common_Yellowthroat/Common_Yellowthr...             \n",
       "11785  11787 200.Common_Yellowthroat/Common_Yellowthr...             \n",
       "11786  11788 200.Common_Yellowthroat/Common_Yellowthr...             \n",
       "\n",
       "[11787 rows x 1 columns]"
      ]
     },
     "execution_count": 4,
     "metadata": {},
     "output_type": "execute_result"
    }
   ],
   "source": [
    "df"
   ]
  },
  {
   "cell_type": "code",
   "execution_count": null,
   "id": "d41080e3",
   "metadata": {},
   "outputs": [],
   "source": []
  }
 ],
 "metadata": {
  "kernelspec": {
   "display_name": "Python 3 (ipykernel)",
   "language": "python",
   "name": "python3"
  },
  "language_info": {
   "codemirror_mode": {
    "name": "ipython",
    "version": 3
   },
   "file_extension": ".py",
   "mimetype": "text/x-python",
   "name": "python",
   "nbconvert_exporter": "python",
   "pygments_lexer": "ipython3",
   "version": "3.10.12"
  }
 },
 "nbformat": 4,
 "nbformat_minor": 5
}
