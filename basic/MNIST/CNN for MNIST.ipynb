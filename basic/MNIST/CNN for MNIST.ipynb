{
 "cells": [
  {
   "cell_type": "markdown",
   "id": "4cdeed3b",
   "metadata": {},
   "source": [
    "# CNN for MNIST Handwritten Digit Classification"
   ]
  },
  {
   "cell_type": "code",
   "execution_count": 96,
   "id": "7d3ecaa1",
   "metadata": {},
   "outputs": [],
   "source": [
    "from numpy import mean\n",
    "from numpy import std\n",
    "from matplotlib import pyplot as plt\n",
    "from sklearn.model_selection import KFold\n",
    "from tensorflow.keras.datasets import mnist\n",
    "from tensorflow.keras.utils import to_categorical\n",
    "from tensorflow.keras.models import Sequential\n",
    "from tensorflow.keras.layers import Conv2D\n",
    "from tensorflow.keras.layers import MaxPooling2D\n",
    "from tensorflow.keras.layers import Dense\n",
    "from tensorflow.keras.layers import Flatten\n",
    "from tensorflow.keras.optimizers import SGD\n",
    "import numpy as np\n",
    "import matplotlib.pyplot as plt"
   ]
  },
  {
   "cell_type": "code",
   "execution_count": 97,
   "id": "c27d74c0",
   "metadata": {},
   "outputs": [],
   "source": [
    "def prep_pixels(train, test):\n",
    "\ttrain_norm = train.astype('float32')\n",
    "\ttest_norm = test.astype('float32')\n",
    "\ttrain_norm = train_norm / 255.0\n",
    "\ttest_norm = test_norm / 255.0\n",
    "\treturn train_norm, test_norm"
   ]
  },
  {
   "cell_type": "code",
   "execution_count": 98,
   "id": "48508767",
   "metadata": {},
   "outputs": [],
   "source": [
    "(trainX, trainY), (testX, testY) = mnist.load_data()\n",
    "trainX = trainX.reshape((trainX.shape[0], 28, 28, 1))\n",
    "testX = testX.reshape((testX.shape[0], 28, 28, 1))"
   ]
  },
  {
   "cell_type": "code",
   "execution_count": 99,
   "id": "874daa68",
   "metadata": {},
   "outputs": [],
   "source": [
    "trainX, testX = prep_pixels(trainX, testX)"
   ]
  },
  {
   "cell_type": "code",
   "execution_count": 100,
   "id": "618b73b1",
   "metadata": {},
   "outputs": [
    {
     "data": {
      "image/png": "[encoded data removed]",
      "text/plain": [
       "<Figure size 640x480 with 10 Axes>"
      ]
     },
     "metadata": {},
     "output_type": "display_data"
    }
   ],
   "source": [
    "fig = plt.figure()\n",
    "for i in range(10):\n",
    "  plt.subplot(3,5,i+1)\n",
    "  plt.tight_layout()\n",
    "  plt.imshow(trainX[i], cmap='gray', interpolation='none')\n",
    "  plt.title(\"Digit: {}\".format(trainY[i]))\n",
    "  plt.xticks([])\n",
    "  plt.yticks([])\n"
   ]
  },
  {
   "cell_type": "code",
   "execution_count": 101,
   "id": "47b201de",
   "metadata": {},
   "outputs": [],
   "source": [
    "trainY = to_categorical(trainY)\n",
    "testY = to_categorical(testY)"
   ]
  },
  {
   "cell_type": "code",
   "execution_count": 102,
   "id": "8e91477f",
   "metadata": {},
   "outputs": [],
   "source": [
    "model = Sequential()\n",
    "model.add(Conv2D(32, (3, 3), activation='relu', kernel_initializer='he_uniform', input_shape=(28, 28, 1)))\n",
    "model.add(MaxPooling2D((2, 2)))\n",
    "model.add(Flatten())\n",
    "model.add(Dense(100, activation='relu', kernel_initializer='he_uniform'))\n",
    "model.add(Dense(10, activation='softmax'))\n",
    "opt = SGD(learning_rate=0.01, momentum=0.9)\n",
    "model.compile(optimizer=opt, loss='categorical_crossentropy', metrics=['accuracy'])"
   ]
  },
  {
   "cell_type": "code",
   "execution_count": 103,
   "id": "8d8f3cbb",
   "metadata": {},
   "outputs": [
    {
     "name": "stdout",
     "output_type": "stream",
     "text": [
      "Epoch 1/10\n",
      "120/120 [==============================] - 6s 51ms/step - loss: 0.4240 - accuracy: 0.8696\n",
      "Epoch 2/10\n",
      "120/120 [==============================] - 6s 49ms/step - loss: 0.1812 - accuracy: 0.9483\n",
      "Epoch 3/10\n",
      "120/120 [==============================] - 6s 49ms/step - loss: 0.1353 - accuracy: 0.9616\n",
      "Epoch 4/10\n",
      "120/120 [==============================] - 6s 51ms/step - loss: 0.1096 - accuracy: 0.9693\n",
      "Epoch 5/10\n",
      "120/120 [==============================] - 6s 54ms/step - loss: 0.0921 - accuracy: 0.9749\n",
      "Epoch 6/10\n",
      "120/120 [==============================] - 7s 60ms/step - loss: 0.0797 - accuracy: 0.9781\n",
      "Epoch 7/10\n",
      "120/120 [==============================] - 7s 55ms/step - loss: 0.0709 - accuracy: 0.9803\n",
      "Epoch 8/10\n",
      "120/120 [==============================] - 6s 54ms/step - loss: 0.0628 - accuracy: 0.9829\n",
      "Epoch 9/10\n",
      "120/120 [==============================] - 6s 53ms/step - loss: 0.0580 - accuracy: 0.9844\n",
      "Epoch 10/10\n",
      "120/120 [==============================] - 6s 50ms/step - loss: 0.0528 - accuracy: 0.9857\n"
     ]
    }
   ],
   "source": [
    "history = model.fit(trainX, trainY, epochs=10, batch_size=500)"
   ]
  },
  {
   "cell_type": "code",
   "execution_count": 104,
   "id": "8d1f74fb",
   "metadata": {},
   "outputs": [
    {
     "name": "stdout",
     "output_type": "stream",
     "text": [
      "loss= 0.05880570039153099\n",
      "accuracy= 0.9810000061988831\n"
     ]
    }
   ],
   "source": [
    "score = model.evaluate(testX, testY, verbose=0)\n",
    "print('loss=', score[0])\n",
    "print('accuracy=', score[1])"
   ]
  },
  {
   "cell_type": "code",
   "execution_count": 105,
   "id": "6401fadd",
   "metadata": {},
   "outputs": [],
   "source": [
    "indices = np.random.choice(testX.shape[0], size=10, replace=False)\n",
    "images = testX[indices]\n",
    "labels = testY[indices]"
   ]
  },
  {
   "cell_type": "code",
   "execution_count": 106,
   "id": "96c3ef91",
   "metadata": {},
   "outputs": [
    {
     "name": "stdout",
     "output_type": "stream",
     "text": [
      "1/1 [==============================] - 0s 56ms/step\n",
      "Predicted labels: [7 1 2 0 5 5 3 3 0 8]\n"
     ]
    }
   ],
   "source": [
    "predictions = model.predict(images)\n",
    "predicted_labels = np.argmax(predictions, axis=1)\n",
    "print('Predicted labels:', predicted_labels)"
   ]
  },
  {
   "cell_type": "code",
   "execution_count": 107,
   "id": "bb786c9e",
   "metadata": {},
   "outputs": [
    {
     "data": {
      "image/png": "[encoded data removed]",
      "text/plain": [
       "<Figure size 640x480 with 10 Axes>"
      ]
     },
     "metadata": {},
     "output_type": "display_data"
    }
   ],
   "source": [
    "fig = plt.figure()\n",
    "for i in range(len(predicted_labels)):\n",
    "  plt.subplot(3,5,i+1)\n",
    "  plt.tight_layout()\n",
    "  plt.imshow(images[i], cmap='gray', interpolation='none')\n",
    "  plt.title(\"Digit: {}\".format(predicted_labels[i]))\n",
    "  plt.xticks([])\n",
    "  plt.yticks([])\n"
   ]
  }
 ],
 "metadata": {
  "kernelspec": {
   "display_name": "Python 3 (ipykernel)",
   "language": "python",
   "name": "python3"
  },
  "language_info": {
   "codemirror_mode": {
    "name": "ipython",
    "version": 3
   },
   "file_extension": ".py",
   "mimetype": "text/x-python",
   "name": "python",
   "nbconvert_exporter": "python",
   "pygments_lexer": "ipython3",
   "version": "3.9.13"
  }
 },
 "nbformat": 4,
 "nbformat_minor": 5
}
