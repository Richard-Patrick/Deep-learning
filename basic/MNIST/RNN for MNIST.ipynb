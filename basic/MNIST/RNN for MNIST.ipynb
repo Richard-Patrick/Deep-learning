{
 "cells": [
  {
   "cell_type": "markdown",
   "id": "4cdeed3b",
   "metadata": {},
   "source": [
    "# RNN(LSTM) for MNIST Handwritten Digit Classification"
   ]
  },
  {
   "cell_type": "code",
   "execution_count": 46,
   "id": "7d3ecaa1",
   "metadata": {},
   "outputs": [],
   "source": [
    "from numpy import mean\n",
    "from numpy import std\n",
    "from matplotlib import pyplot as plt\n",
    "from sklearn.model_selection import KFold\n",
    "from tensorflow.keras.datasets import mnist\n",
    "from tensorflow.keras.layers import Flatten\n",
    "from tensorflow.keras.optimizers import SGD\n",
    "from tensorflow.keras.layers import LSTM, Dense\n",
    "from tensorflow.keras.models import Sequential\n",
    "from tensorflow.keras.utils import to_categorical\n",
    "import numpy as np\n",
    "import matplotlib.pyplot as plt"
   ]
  },
  {
   "cell_type": "code",
   "execution_count": 47,
   "id": "c27d74c0",
   "metadata": {},
   "outputs": [],
   "source": [
    "def prep_pixels(train, test):\n",
    "\ttrain_norm = train.astype('float32')\n",
    "\ttest_norm = test.astype('float32')\n",
    "\ttrain_norm = train_norm / 255.0\n",
    "\ttest_norm = test_norm / 255.0\n",
    "\treturn train_norm, test_norm"
   ]
  },
  {
   "cell_type": "code",
   "execution_count": 48,
   "id": "48508767",
   "metadata": {},
   "outputs": [],
   "source": [
    "(trainX, trainY), (testX, testY) = mnist.load_data()\n",
    "trainX = trainX.reshape((trainX.shape[0], 28, 28))\n",
    "testX = testX.reshape((testX.shape[0], 28, 28))"
   ]
  },
  {
   "cell_type": "code",
   "execution_count": 49,
   "id": "874daa68",
   "metadata": {},
   "outputs": [],
   "source": [
    "trainX, testX = prep_pixels(trainX, testX)"
   ]
  },
  {
   "cell_type": "code",
   "execution_count": 50,
   "id": "618b73b1",
   "metadata": {},
   "outputs": [
    {
     "data": {
      "image/png": "[encoded data removed]",
      "text/plain": [
       "<Figure size 640x480 with 10 Axes>"
      ]
     },
     "metadata": {},
     "output_type": "display_data"
    }
   ],
   "source": [
    "fig = plt.figure()\n",
    "for i in range(10):\n",
    "  plt.subplot(3,5,i+1)\n",
    "  plt.tight_layout()\n",
    "  plt.imshow(trainX[i], cmap='gray', interpolation='none')\n",
    "  plt.title(\"Digit: {}\".format(trainY[i]))\n",
    "  plt.xticks([])\n",
    "  plt.yticks([])\n"
   ]
  },
  {
   "cell_type": "code",
   "execution_count": 51,
   "id": "47b201de",
   "metadata": {},
   "outputs": [],
   "source": [
    "trainY = to_categorical(trainY,10)\n",
    "testY = to_categorical(testY,10)"
   ]
  },
  {
   "cell_type": "code",
   "execution_count": 52,
   "id": "a1673658",
   "metadata": {},
   "outputs": [],
   "source": [
    "model = Sequential()\n",
    "model.add(LSTM(128, input_shape=(28, 28), activation='relu', return_sequences=False))\n",
    "model.add(Dense(100, activation='relu'))\n",
    "model.add(Dense(10, activation='softmax'))\n",
    "model.compile(optimizer='adam', loss='categorical_crossentropy', metrics=['accuracy'])"
   ]
  },
  {
   "cell_type": "code",
   "execution_count": 53,
   "id": "8d8f3cbb",
   "metadata": {},
   "outputs": [
    {
     "name": "stdout",
     "output_type": "stream",
     "text": [
      "Epoch 1/10\n",
      "469/469 [==============================] - 11s 22ms/step - loss: 0.6827 - accuracy: 0.7698 - val_loss: 0.2623 - val_accuracy: 0.9140\n",
      "Epoch 2/10\n",
      "469/469 [==============================] - 10s 21ms/step - loss: 0.1649 - accuracy: 0.9479 - val_loss: 0.1151 - val_accuracy: 0.9628\n",
      "Epoch 3/10\n",
      "469/469 [==============================] - 10s 22ms/step - loss: 0.1097 - accuracy: 0.9661 - val_loss: 0.0869 - val_accuracy: 0.9731\n",
      "Epoch 4/10\n",
      "469/469 [==============================] - 10s 22ms/step - loss: 0.0866 - accuracy: 0.9724 - val_loss: 0.0954 - val_accuracy: 0.9691\n",
      "Epoch 5/10\n",
      "469/469 [==============================] - 10s 21ms/step - loss: 0.0685 - accuracy: 0.9786 - val_loss: 0.0729 - val_accuracy: 0.9757\n",
      "Epoch 6/10\n",
      "469/469 [==============================] - 11s 23ms/step - loss: 0.0630 - accuracy: 0.9806 - val_loss: 0.0923 - val_accuracy: 0.9692\n",
      "Epoch 7/10\n",
      "469/469 [==============================] - 10s 21ms/step - loss: 0.0536 - accuracy: 0.9836 - val_loss: 0.0580 - val_accuracy: 0.9815\n",
      "Epoch 8/10\n",
      "469/469 [==============================] - 10s 21ms/step - loss: 0.0455 - accuracy: 0.9854 - val_loss: 0.0764 - val_accuracy: 0.9769\n",
      "Epoch 9/10\n",
      "469/469 [==============================] - 10s 21ms/step - loss: 0.0438 - accuracy: 0.9864 - val_loss: 0.0471 - val_accuracy: 0.9859\n",
      "Epoch 10/10\n",
      "469/469 [==============================] - 10s 21ms/step - loss: 0.0367 - accuracy: 0.9888 - val_loss: 0.0455 - val_accuracy: 0.9855\n"
     ]
    },
    {
     "data": {
      "text/plain": [
       "<keras.callbacks.History at 0x19302395790>"
      ]
     },
     "execution_count": 53,
     "metadata": {},
     "output_type": "execute_result"
    }
   ],
   "source": [
    "model.fit(trainX, trainY, validation_data=(testX, testY), epochs=10, batch_size=128)"
   ]
  },
  {
   "cell_type": "code",
   "execution_count": 54,
   "id": "8d1f74fb",
   "metadata": {},
   "outputs": [
    {
     "name": "stdout",
     "output_type": "stream",
     "text": [
      "loss= 0.04553816094994545\n",
      "accuracy= 0.9854999780654907\n"
     ]
    }
   ],
   "source": [
    "score = model.evaluate(testX, testY, verbose=0)\n",
    "print('loss=', score[0])\n",
    "print('accuracy=', score[1])"
   ]
  },
  {
   "cell_type": "code",
   "execution_count": 55,
   "id": "6401fadd",
   "metadata": {},
   "outputs": [],
   "source": [
    "indices = np.random.choice(testX.shape[0], size=10, replace=False)\n",
    "images = testX[indices]\n",
    "labels = testY[indices]"
   ]
  },
  {
   "cell_type": "code",
   "execution_count": 56,
   "id": "96c3ef91",
   "metadata": {},
   "outputs": [
    {
     "name": "stdout",
     "output_type": "stream",
     "text": [
      "1/1 [==============================] - 0s 180ms/step\n",
      "Predicted labels: [0 6 1 6 3 8 5 8 9 7]\n"
     ]
    }
   ],
   "source": [
    "predictions = model.predict(images)\n",
    "predicted_labels = np.argmax(predictions, axis=1)\n",
    "print('Predicted labels:', predicted_labels)"
   ]
  },
  {
   "cell_type": "code",
   "execution_count": 57,
   "id": "bb786c9e",
   "metadata": {},
   "outputs": [
    {
     "data": {
      "image/png": "[encoded data removed]",
      "text/plain": [
       "<Figure size 640x480 with 10 Axes>"
      ]
     },
     "metadata": {},
     "output_type": "display_data"
    }
   ],
   "source": [
    "fig = plt.figure()\n",
    "for i in range(len(predicted_labels)):\n",
    "  plt.subplot(3,5,i+1)\n",
    "  plt.tight_layout()\n",
    "  plt.imshow(images[i], cmap='gray', interpolation='none')\n",
    "  plt.title(\"Digit: {}\".format(predicted_labels[i]))\n",
    "  plt.xticks([])\n",
    "  plt.yticks([])\n"
   ]
  },
  {
   "cell_type": "code",
   "execution_count": null,
   "id": "44386d57",
   "metadata": {},
   "outputs": [],
   "source": []
  }
 ],
 "metadata": {
  "kernelspec": {
   "display_name": "Python 3 (ipykernel)",
   "language": "python",
   "name": "python3"
  },
  "language_info": {
   "codemirror_mode": {
    "name": "ipython",
    "version": 3
   },
   "file_extension": ".py",
   "mimetype": "text/x-python",
   "name": "python",
   "nbconvert_exporter": "python",
   "pygments_lexer": "ipython3",
   "version": "3.9.13"
  }
 },
 "nbformat": 4,
 "nbformat_minor": 5
}
